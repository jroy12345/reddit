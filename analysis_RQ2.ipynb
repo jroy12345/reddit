{
 "cells": [
  {
   "cell_type": "code",
   "execution_count": null,
   "id": "34beba02",
   "metadata": {},
   "outputs": [],
   "source": [
    "import pandas as pd\n",
    "import matplotlib.pyplot as plt\n",
    "import seaborn as sns\n",
    "from datetime import datetime\n",
    "from datetime import date"
   ]
  },
  {
   "cell_type": "code",
   "execution_count": null,
   "id": "6c25b086",
   "metadata": {
    "scrolled": true
   },
   "outputs": [],
   "source": [
    "# might take a while\n",
    "# read comments dataset with counts\n",
    "comments_rq2 = pd.read_json('comments_rq2.json')"
   ]
  },
  {
   "cell_type": "code",
   "execution_count": null,
   "id": "b4364f13",
   "metadata": {
    "scrolled": true
   },
   "outputs": [],
   "source": [
    "# sample groupby showing counts over time\n",
    "rq2_data = comments_rq2.groupby([comments_rq2['datetime'].dt.date, \n",
    "                               'variable'])[['value']].sum()\n",
    "rq2_data.reset_index(inplace=True)\n",
    "rq2_data[\"before_quarantine\"] = rq2_data[\"datetime\"] < date(2018, 9, 28)\n",
    "rq2_data"
   ]
  },
  {
   "cell_type": "code",
   "execution_count": null,
   "id": "17acb38c",
   "metadata": {
    "scrolled": true
   },
   "outputs": [],
   "source": [
    "sns.set(rc={\"figure.figsize\": (15, 15)})\n",
    "toxicity_lineplot = sns.lineplot(x=\"datetime\", y=\"value\", hue=\"variable\", data=rq2_data)\n",
    "toxicity_lineplot.set_xlabel(\"Date\")\n",
    "toxicity_lineplot.set_ylabel(\"Instances of Toxicity\")\n",
    "toxicity_lineplot.set_title(\"Toxicity Over Time\")\n",
    "toxicity_lineplot.vlines(x=[datetime(2018, 9, 28), '2018-09-28'], ymin=0, ymax=150, linestyles=\"dashed\", color=\"black\", label=\"Day Quarantine was Introduced\")\n",
    "toxicity_lineplot.legend(title=\"Type of Toxicity\")"
   ]
  },
  {
   "cell_type": "code",
   "execution_count": null,
   "id": "e5110789",
   "metadata": {
    "scrolled": false
   },
   "outputs": [],
   "source": [
    "toxicity_barplot = sns.barplot(x=\"variable\", y=\"value\", hue=\"before_quarantine\", data=rq2_data, hue_order=[True, False])\n",
    "toxicity_barplot.set_xlabel(\"Type of Toxicity\")\n",
    "toxicity_barplot.set_ylabel(\"Instances of Toxicity\")\n",
    "toxicity_barplot.set_title(\"Toxicity by Category Before and After Quarantine\")\n",
    "toxicity_lineplot.legend(title=\"Before Quarantine\")"
   ]
  }
 ],
 "metadata": {
  "kernelspec": {
   "display_name": "Python 3 (ipykernel)",
   "language": "python",
   "name": "python3"
  },
  "language_info": {
   "codemirror_mode": {
    "name": "ipython",
    "version": 3
   },
   "file_extension": ".py",
   "mimetype": "text/x-python",
   "name": "python",
   "nbconvert_exporter": "python",
   "pygments_lexer": "ipython3",
   "version": "3.9.7"
  }
 },
 "nbformat": 4,
 "nbformat_minor": 5
}
