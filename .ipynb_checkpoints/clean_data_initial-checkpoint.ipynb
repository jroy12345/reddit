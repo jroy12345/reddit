{
 "cells": [
  {
   "cell_type": "markdown",
   "id": "3b456763",
   "metadata": {},
   "source": [
    "# Data Extract and Transform Process"
   ]
  },
  {
   "cell_type": "code",
   "execution_count": null,
   "id": "fc83b005",
   "metadata": {},
   "outputs": [],
   "source": [
    "# import statements\n",
    "import pandas as pd\n",
    "from  datetime import datetime"
   ]
  },
  {
   "cell_type": "markdown",
   "id": "eaf78ca5",
   "metadata": {},
   "source": [
    "### Cleaning the Comments Dataset"
   ]
  },
  {
   "cell_type": "code",
   "execution_count": null,
   "id": "704f7d87",
   "metadata": {},
   "outputs": [],
   "source": [
    "# read comments data\n",
    "comments = pd.read_json('trp_comments.json')"
   ]
  },
  {
   "cell_type": "code",
   "execution_count": null,
   "id": "bf335ea6",
   "metadata": {},
   "outputs": [],
   "source": [
    "comments.columns.unique()"
   ]
  },
  {
   "cell_type": "code",
   "execution_count": null,
   "id": "5d8c717f",
   "metadata": {
    "scrolled": true
   },
   "outputs": [],
   "source": [
    "# filter to relevant columns\n",
    "comments = comments[['id', 'created_utc','user_removed', 'author', 'body']]"
   ]
  },
  {
   "cell_type": "code",
   "execution_count": null,
   "id": "7e44dff1",
   "metadata": {
    "scrolled": true
   },
   "outputs": [],
   "source": [
    "# set index to comment id\n",
    "comments.set_index('id', inplace=True)"
   ]
  },
  {
   "cell_type": "code",
   "execution_count": null,
   "id": "170ad597",
   "metadata": {},
   "outputs": [],
   "source": [
    "# Change from UNIX time to human-readable format\n",
    "comments['datetime'] = pd.to_datetime(comments['created_utc'], infer_datetime_format=True, unit='s')"
   ]
  },
  {
   "cell_type": "code",
   "execution_count": null,
   "id": "37862aef",
   "metadata": {},
   "outputs": [],
   "source": [
    "# figure out how many comments are removed to be used in future parsing\n",
    "\n",
    "# number of comments that weren't removed\n",
    "comments['user_removed'].isnull().sum()"
   ]
  },
  {
   "cell_type": "code",
   "execution_count": null,
   "id": "69f91fa7",
   "metadata": {},
   "outputs": [],
   "source": [
    "# total number of rows\n",
    "len(comments['user_removed'])"
   ]
  },
  {
   "cell_type": "code",
   "execution_count": null,
   "id": "d6886117",
   "metadata": {
    "scrolled": true
   },
   "outputs": [],
   "source": [
    "# calculate percentage of rows with no body data\n",
    "# (num of comments that were removed / total comments) * 100\n",
    "((200139-189806)/200139)*100"
   ]
  },
  {
   "cell_type": "markdown",
   "id": "c6586b7c",
   "metadata": {},
   "source": [
    "~5.17% of all comments in the dataset do not have text that can be parsed"
   ]
  },
  {
   "cell_type": "code",
   "execution_count": null,
   "id": "41df3224",
   "metadata": {
    "scrolled": true
   },
   "outputs": [],
   "source": [
    "# fill nulls with 0 to make column binary \n",
    "comments.fillna({'user_removed': 0}, inplace=True)"
   ]
  },
  {
   "cell_type": "markdown",
   "id": "9f4484ec",
   "metadata": {},
   "source": [
    "### Cleaning the Submissions Dataset"
   ]
  },
  {
   "cell_type": "code",
   "execution_count": null,
   "id": "46783a5d",
   "metadata": {},
   "outputs": [],
   "source": [
    "submissions = pd.read_json('trp_submissions.json')"
   ]
  },
  {
   "cell_type": "code",
   "execution_count": null,
   "id": "f19530ee",
   "metadata": {},
   "outputs": [],
   "source": [
    "# filter to relevant columns\n",
    "submissions = submissions[['id', 'created_utc', 'author', 'selftext']]"
   ]
  },
  {
   "cell_type": "code",
   "execution_count": null,
   "id": "5701ce1b",
   "metadata": {},
   "outputs": [],
   "source": [
    "# set submissions index\n",
    "submissions.set_index('id', inplace=True)"
   ]
  },
  {
   "cell_type": "code",
   "execution_count": null,
   "id": "d5bc3344",
   "metadata": {},
   "outputs": [],
   "source": [
    "submissions.head()"
   ]
  },
  {
   "cell_type": "code",
   "execution_count": null,
   "id": "4f405f42",
   "metadata": {},
   "outputs": [],
   "source": [
    "# Change from UNIX time to human-readable format\n",
    "submissions['datetime'] = pd.to_datetime(submissions['created_utc'], infer_datetime_format=True, unit='s')"
   ]
  },
  {
   "cell_type": "code",
   "execution_count": null,
   "id": "e4467764",
   "metadata": {
    "scrolled": true
   },
   "outputs": [],
   "source": [
    "# determine how many submissions were removed/no longer viewable\n",
    "len(submissions[submissions['selftext']==('[removed]')])"
   ]
  },
  {
   "cell_type": "code",
   "execution_count": null,
   "id": "8d4884c9",
   "metadata": {},
   "outputs": [],
   "source": [
    "# number of rows\n",
    "submissions.shape[0]"
   ]
  },
  {
   "cell_type": "markdown",
   "id": "e4988407",
   "metadata": {},
   "source": [
    "3646 out of 7118 rows (~51%) have had their posts removed.\n",
    "\n",
    "This is too large of a missing dataset."
   ]
  },
  {
   "cell_type": "markdown",
   "id": "e7a457f0",
   "metadata": {},
   "source": [
    "# Data Sanity Check"
   ]
  },
  {
   "cell_type": "markdown",
   "id": "2ca128e8",
   "metadata": {},
   "source": [
    "Checking to see which months have missing data in the collection process"
   ]
  },
  {
   "cell_type": "code",
   "execution_count": null,
   "id": "e5506036",
   "metadata": {},
   "outputs": [],
   "source": [
    "comments.groupby([comments['datetime'].dt.year, comments['datetime'].dt.month]).size()"
   ]
  },
  {
   "cell_type": "code",
   "execution_count": null,
   "id": "f595b2ee",
   "metadata": {},
   "outputs": [],
   "source": [
    "submissions.groupby([submissions['datetime'].dt.year, submissions['datetime'].dt.month]).size()"
   ]
  },
  {
   "cell_type": "code",
   "execution_count": null,
   "id": "5300839a",
   "metadata": {
    "scrolled": true
   },
   "outputs": [],
   "source": [
    "comments.groupby([comments['datetime'].dt.year, comments['datetime'].dt.month]).size().plot(figsize=(10,3))"
   ]
  },
  {
   "cell_type": "code",
   "execution_count": null,
   "id": "0bd8b1d3",
   "metadata": {
    "scrolled": true
   },
   "outputs": [],
   "source": [
    "submissions.groupby([submissions['datetime'].dt.year, submissions['datetime'].dt.month]).size().plot(figsize=(10,3))"
   ]
  },
  {
   "cell_type": "markdown",
   "id": "5d6b1ff3",
   "metadata": {},
   "source": [
    "## Moving Forward\n",
    "\n",
    "After conferring with the instructors, we have decided to only use the comments dataset filtered to the 120 day range corresponding to the 60 days before and after the quarantine intervention."
   ]
  },
  {
   "cell_type": "code",
   "execution_count": null,
   "id": "54182d40",
   "metadata": {},
   "outputs": [],
   "source": [
    "# Observing only the comments 60 days before and\n",
    "# 60 days after 09/28/2018 (07/30/2018 - 11/27/2018) in the dataset.\n",
    "\n",
    "date_range = (comments['datetime'] > '2018-07-30') & (comments['datetime'] < '2018-11-28')"
   ]
  },
  {
   "cell_type": "code",
   "execution_count": null,
   "id": "2bcc7a82",
   "metadata": {},
   "outputs": [],
   "source": [
    "# apply date filter to comments df\n",
    "filtered_comments=comments[date_range].copy()\n",
    "filtered_comments.sort_values(by='datetime', inplace=True)"
   ]
  },
  {
   "cell_type": "code",
   "execution_count": null,
   "id": "b2896823",
   "metadata": {},
   "outputs": [],
   "source": [
    "filtered_comments.reset_index(inplace=True)\n",
    "filtered_comments"
   ]
  },
  {
   "cell_type": "markdown",
   "id": "fd637851",
   "metadata": {},
   "source": [
    "## Saving the New Data\n",
    "\n",
    "At this point, we have sufficiently arranged the data to answer Research Question 1 in regards to activity in the subreddit.\n",
    "\n",
    "We can drop 'user_removed' at this point as we have determined we no longer will need it when we switched project to no longer use API. \n",
    "\n",
    "To be used in further analysis, the filtered_comments table will be saved as a json file"
   ]
  },
  {
   "cell_type": "code",
   "execution_count": null,
   "id": "3cc738cc",
   "metadata": {},
   "outputs": [],
   "source": [
    "filtered_comments.drop('user_removed', axis=1, inplace=True)"
   ]
  },
  {
   "cell_type": "code",
   "execution_count": null,
   "id": "2bb56069",
   "metadata": {},
   "outputs": [],
   "source": [
    "filtered_comments.to_json('./filtered_comments.json')"
   ]
  },
  {
   "cell_type": "code",
   "execution_count": null,
   "id": "3e41bf66",
   "metadata": {},
   "outputs": [],
   "source": []
  }
 ],
 "metadata": {
  "kernelspec": {
   "display_name": "Python 3 (ipykernel)",
   "language": "python",
   "name": "python3"
  },
  "language_info": {
   "codemirror_mode": {
    "name": "ipython",
    "version": 3
   },
   "file_extension": ".py",
   "mimetype": "text/x-python",
   "name": "python",
   "nbconvert_exporter": "python",
   "pygments_lexer": "ipython3",
   "version": "3.9.7"
  }
 },
 "nbformat": 4,
 "nbformat_minor": 5
}
