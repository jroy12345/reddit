{
 "cells": [
  {
   "cell_type": "code",
   "execution_count": null,
   "id": "34beba02",
   "metadata": {},
   "outputs": [],
   "source": [
    "import pandas as pd\n",
    "import seaborn as sns"
   ]
  },
  {
   "cell_type": "code",
   "execution_count": null,
   "id": "6c25b086",
   "metadata": {},
   "outputs": [],
   "source": [
    "# might take a while\n",
    "# read comments dataset with counts\n",
    "comments_rq2 = pd.read_json('comments_rq2.json')"
   ]
  },
  {
   "cell_type": "code",
   "execution_count": null,
   "id": "b4364f13",
   "metadata": {},
   "outputs": [],
   "source": [
    "# sample groupby showing counts over time\n",
    "rq2_data = comments_rq2.groupby([comments_rq2['datetime'].dt.date, \n",
    "                               'variable'])[['value']].sum()\n",
    "rq2_data"
   ]
  },
  {
   "cell_type": "code",
   "execution_count": null,
   "id": "17acb38c",
   "metadata": {},
   "outputs": [],
   "source": [
    "sns.lineplot(\n",
    "    x='datetime',\n",
    "    y='value',\n",
    "    ci=0,\n",
    "    data=rq2_data\n",
    ")"
   ]
  }
 ],
 "metadata": {
  "kernelspec": {
   "display_name": "Python 3 (ipykernel)",
   "language": "python",
   "name": "python3"
  },
  "language_info": {
   "codemirror_mode": {
    "name": "ipython",
    "version": 3
   },
   "file_extension": ".py",
   "mimetype": "text/x-python",
   "name": "python",
   "nbconvert_exporter": "python",
   "pygments_lexer": "ipython3",
   "version": "3.9.7"
  }
 },
 "nbformat": 4,
 "nbformat_minor": 5
}
