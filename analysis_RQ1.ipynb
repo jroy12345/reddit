{
 "cells": [
  {
   "cell_type": "code",
   "execution_count": null,
   "id": "0acd61ae",
   "metadata": {},
   "outputs": [],
   "source": [
    "import pandas as pd\n",
    "import seaborn as sns"
   ]
  },
  {
   "cell_type": "code",
   "execution_count": null,
   "id": "28dd1af6",
   "metadata": {},
   "outputs": [],
   "source": [
    "# read filtered comments data\n",
    "filtered_comments = pd.read_json('filtered_comments.json')"
   ]
  },
  {
   "cell_type": "code",
   "execution_count": null,
   "id": "4fafde4d",
   "metadata": {},
   "outputs": [],
   "source": [
    "# shows number of comments\n",
    "comments_per_day = filtered_comments.groupby(filtered_comments['datetime'].dt.date).agg(\n",
    "    {'body':'size', 'author':'nunique'})"
   ]
  },
  {
   "cell_type": "code",
   "execution_count": null,
   "id": "4833eeaf",
   "metadata": {},
   "outputs": [],
   "source": [
    "comments_per_day"
   ]
  }
 ],
 "metadata": {
  "kernelspec": {
   "display_name": "Python 3 (ipykernel)",
   "language": "python",
   "name": "python3"
  },
  "language_info": {
   "codemirror_mode": {
    "name": "ipython",
    "version": 3
   },
   "file_extension": ".py",
   "mimetype": "text/x-python",
   "name": "python",
   "nbconvert_exporter": "python",
   "pygments_lexer": "ipython3",
   "version": "3.10.2"
  }
 },
 "nbformat": 4,
 "nbformat_minor": 5
}
