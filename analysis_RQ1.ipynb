{
 "cells": [
  {
   "cell_type": "code",
   "execution_count": null,
   "id": "0acd61ae",
   "metadata": {},
   "outputs": [],
   "source": [
    "import pandas as pd\n",
    "import seaborn as sns\n",
    "from datetime import datetime"
   ]
  },
  {
   "cell_type": "code",
   "execution_count": null,
   "id": "28dd1af6",
   "metadata": {},
   "outputs": [],
   "source": [
    "# read filtered comments data\n",
    "filtered_comments = pd.read_json('filtered_comments.json')"
   ]
  },
  {
   "cell_type": "code",
   "execution_count": null,
   "id": "4fafde4d",
   "metadata": {},
   "outputs": [],
   "source": [
    "# shows number of comments\n",
    "comments_per_day = filtered_comments.groupby(filtered_comments['datetime'].dt.date).agg(\n",
    "    {'body':'size', 'author':'nunique'})"
   ]
  },
  {
   "cell_type": "code",
   "execution_count": null,
   "id": "4833eeaf",
   "metadata": {},
   "outputs": [],
   "source": [
    "comments_per_day"
   ]
  },
  {
   "cell_type": "code",
   "execution_count": null,
   "id": "e4cd97e8",
   "metadata": {
    "scrolled": false
   },
   "outputs": [],
   "source": [
    "#sns.set controls the size of the plot, default settings were too small.\n",
    "sns.set(rc={\"figure.figsize\": (15, 15)})\n",
    "# creation of plot, changing of axis labels\n",
    "comments_lineplot = sns.lineplot(x=\"datetime\", y=\"body\", data=comments_per_day)\n",
    "comments_lineplot.set_xlabel(\"Date\")\n",
    "comments_lineplot.set_ylabel(\"Number of Comments\")\n",
    "comments_lineplot.vlines(x=[datetime(2018, 9, 28), '2018-09-28'], ymin=0, ymax=1300, linestyles=\"dashed\", color=\"r\")"
   ]
  },
  {
   "cell_type": "code",
   "execution_count": null,
   "id": "441744d3",
   "metadata": {
    "scrolled": false
   },
   "outputs": [],
   "source": [
    "# creation of plot, changing of axis labels\n",
    "authors_lineplot = sns.lineplot(x=\"datetime\", y=\"author\", data=comments_per_day)\n",
    "authors_lineplot.set_xlabel(\"Date\")\n",
    "authors_lineplot.set_ylabel(\"Number of Unique Authors\")\n",
    "authors_lineplot.vlines(x=[datetime(2018, 9, 28), '2018-09-28'], ymin=0, ymax=510, linestyles=\"dashed\", color=\"r\")"
   ]
  }
 ],
 "metadata": {
  "kernelspec": {
   "display_name": "Python 3 (ipykernel)",
   "language": "python",
   "name": "python3"
  },
  "language_info": {
   "codemirror_mode": {
    "name": "ipython",
    "version": 3
   },
   "file_extension": ".py",
   "mimetype": "text/x-python",
   "name": "python",
   "nbconvert_exporter": "python",
   "pygments_lexer": "ipython3",
   "version": "3.9.7"
  }
 },
 "nbformat": 4,
 "nbformat_minor": 5
}
