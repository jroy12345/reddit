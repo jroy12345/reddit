{
 "cells": [
  {
   "cell_type": "code",
   "execution_count": 107,
   "id": "fc83b005",
   "metadata": {},
   "outputs": [],
   "source": [
    "# import statements\n",
    "import pandas as pd\n",
    "import numpy as np"
   ]
  },
  {
   "cell_type": "markdown",
   "id": "6b282da3",
   "metadata": {},
   "source": [
    "### Cleaning the Comments Dataset"
   ]
  },
  {
   "cell_type": "code",
   "execution_count": 108,
   "id": "704f7d87",
   "metadata": {},
   "outputs": [],
   "source": [
    "# read comments data\n",
    "comments = pd.read_json('trp_comments.json')"
   ]
  },
  {
   "cell_type": "code",
   "execution_count": 109,
   "id": "cf7c9339",
   "metadata": {},
   "outputs": [
    {
     "data": {
      "text/plain": [
       "Index(['author', 'author_flair_background_color', 'author_flair_css_class',\n",
       "       'author_flair_richtext', 'author_flair_template_id',\n",
       "       'author_flair_text', 'author_flair_text_color', 'author_flair_type',\n",
       "       'author_fullname', 'author_patreon_flair', 'body', 'created_utc',\n",
       "       'gildings', 'id', 'is_submitter', 'link_id', 'locked', 'no_follow',\n",
       "       'parent_id', 'permalink', 'retrieved_on', 'score', 'send_replies',\n",
       "       'stickied', 'subreddit', 'subreddit_id', 'updated_utc', 'distinguished',\n",
       "       'author_created_utc', 'can_gild', 'collapsed', 'collapsed_reason',\n",
       "       'controversiality', 'gilded', 'nest_level', 'reply_delay',\n",
       "       'subreddit_name_prefixed', 'subreddit_type', 'user_removed', 'edited',\n",
       "       'mod_removed', 'author_cakeday', 'score_hidden', 'rte_mode',\n",
       "       'all_awardings', 'associated_award', 'author_premium', 'awarders',\n",
       "       'collapsed_because_crowd_control', 'total_awards_received',\n",
       "       'treatment_tags', 'top_awarded_type'],\n",
       "      dtype='object')"
      ]
     },
     "execution_count": 109,
     "metadata": {},
     "output_type": "execute_result"
    }
   ],
   "source": [
    "comments.columns.unique()"
   ]
  },
  {
   "cell_type": "code",
   "execution_count": 110,
   "id": "548831d1",
   "metadata": {
    "scrolled": true
   },
   "outputs": [],
   "source": [
    "# filter to relevant columns\n",
    "comments = comments[['id', 'created_utc','user_removed', 'author', 'author_fullname', 'body']]"
   ]
  },
  {
   "cell_type": "code",
   "execution_count": 111,
   "id": "4e1e4649",
   "metadata": {
    "scrolled": true
   },
   "outputs": [],
   "source": [
    "# set index\n",
    "comments.set_index('id', inplace=True)"
   ]
  },
  {
   "cell_type": "code",
   "execution_count": 112,
   "id": "8a30116a",
   "metadata": {},
   "outputs": [
    {
     "data": {
      "text/plain": [
       "189806"
      ]
     },
     "execution_count": 112,
     "metadata": {},
     "output_type": "execute_result"
    }
   ],
   "source": [
    "# figure out how many comments are removed to be used in future parsing\n",
    "\n",
    "# number of comments that weren't removed\n",
    "comments['user_removed'].isnull().sum()"
   ]
  },
  {
   "cell_type": "code",
   "execution_count": 113,
   "id": "b8069f81",
   "metadata": {},
   "outputs": [
    {
     "data": {
      "text/plain": [
       "200139"
      ]
     },
     "execution_count": 113,
     "metadata": {},
     "output_type": "execute_result"
    }
   ],
   "source": [
    "# total number of rows\n",
    "len(comments['user_removed'])"
   ]
  },
  {
   "cell_type": "code",
   "execution_count": 114,
   "id": "75de2471",
   "metadata": {
    "scrolled": true
   },
   "outputs": [
    {
     "data": {
      "text/plain": [
       "5.16291177631546"
      ]
     },
     "execution_count": 114,
     "metadata": {},
     "output_type": "execute_result"
    }
   ],
   "source": [
    "# calculate percentage of rows with no body data\n",
    "# (num of comments that were removed / total comments) * 100\n",
    "((200139-189806)/200139)*100"
   ]
  },
  {
   "cell_type": "code",
   "execution_count": 115,
   "id": "69feb67f",
   "metadata": {
    "scrolled": true
   },
   "outputs": [],
   "source": [
    "# fill nulls with 0 to make column binary\n",
    "comments.fillna({'user_removed': 0}, inplace=True)"
   ]
  },
  {
   "cell_type": "markdown",
   "id": "1e3a7d27",
   "metadata": {},
   "source": [
    "### Cleaning the Submissions Dataset"
   ]
  },
  {
   "cell_type": "code",
   "execution_count": 116,
   "id": "c349d63c",
   "metadata": {},
   "outputs": [],
   "source": [
    "submissions = pd.read_json('trp_submissions.json')"
   ]
  },
  {
   "cell_type": "code",
   "execution_count": 117,
   "id": "fb62c8f4",
   "metadata": {},
   "outputs": [
    {
     "data": {
      "text/plain": [
       "Index(['author', 'author_flair_css_class', 'author_flair_richtext',\n",
       "       'author_flair_text', 'author_flair_type', 'brand_safe', 'can_mod_post',\n",
       "       'contest_mode', 'created_utc', 'domain', 'full_link', 'id',\n",
       "       'is_crosspostable', 'is_original_content', 'is_reddit_media_domain',\n",
       "       'is_self', 'is_video', 'link_flair_background_color',\n",
       "       'link_flair_css_class', 'link_flair_richtext', 'link_flair_template_id',\n",
       "       'link_flair_text', 'link_flair_text_color', 'link_flair_type', 'locked',\n",
       "       'no_follow', 'num_comments', 'num_crossposts', 'over_18',\n",
       "       'parent_whitelist_status', 'permalink', 'pinned', 'retrieved_on',\n",
       "       'rte_mode', 'score', 'selftext', 'send_replies', 'spoiler', 'stickied',\n",
       "       'subreddit', 'subreddit_id', 'subreddit_subscribers', 'subreddit_type',\n",
       "       'thumbnail', 'title', 'url', 'whitelist_status', 'edited',\n",
       "       'author_flair_background_color', 'author_flair_text_color', 'banned_by',\n",
       "       'post_hint', 'preview', 'distinguished', 'gilded', 'media_only', 'pwls',\n",
       "       'wls', 'is_meta', 'crosspost_parent', 'crosspost_parent_list',\n",
       "       'all_awardings', 'allow_live_comments', 'author_fullname',\n",
       "       'author_patreon_flair', 'author_premium', 'awarders', 'gildings',\n",
       "       'is_robot_indexable', 'total_awards_received', 'treatment_tags',\n",
       "       'upvote_ratio', 'archived', 'author_created_utc',\n",
       "       'author_flair_template_id', 'can_gild', 'category',\n",
       "       'content_categories', 'hidden', 'media', 'media_embed', 'quarantine',\n",
       "       'removal_reason', 'secure_media', 'secure_media_embed',\n",
       "       'subreddit_name_prefixed', 'suggested_sort', 'thumbnail_height',\n",
       "       'thumbnail_width', 'updated_utc', 'author_cakeday', 'media_metadata',\n",
       "       'removed_by_category', 'previous_visits', 'author_id'],\n",
       "      dtype='object')"
      ]
     },
     "execution_count": 117,
     "metadata": {},
     "output_type": "execute_result"
    }
   ],
   "source": [
    "submissions.columns.unique()"
   ]
  },
  {
   "cell_type": "code",
   "execution_count": 119,
   "id": "8f53089d",
   "metadata": {},
   "outputs": [],
   "source": [
    "# filter to relevant columns\n",
    "submissions = submissions[['id', 'created_utc', 'author', 'selftext']]"
   ]
  },
  {
   "cell_type": "code",
   "execution_count": 121,
   "id": "8a5a211e",
   "metadata": {},
   "outputs": [],
   "source": [
    "# set index\n",
    "submissions.set_index('id', inplace=True)"
   ]
  },
  {
   "cell_type": "code",
   "execution_count": 122,
   "id": "f4bc0a05",
   "metadata": {},
   "outputs": [
    {
     "data": {
      "text/html": [
       "<div>\n",
       "<style scoped>\n",
       "    .dataframe tbody tr th:only-of-type {\n",
       "        vertical-align: middle;\n",
       "    }\n",
       "\n",
       "    .dataframe tbody tr th {\n",
       "        vertical-align: top;\n",
       "    }\n",
       "\n",
       "    .dataframe thead th {\n",
       "        text-align: right;\n",
       "    }\n",
       "</style>\n",
       "<table border=\"1\" class=\"dataframe\">\n",
       "  <thead>\n",
       "    <tr style=\"text-align: right;\">\n",
       "      <th></th>\n",
       "      <th>created_utc</th>\n",
       "      <th>author</th>\n",
       "      <th>selftext</th>\n",
       "    </tr>\n",
       "    <tr>\n",
       "      <th>id</th>\n",
       "      <th></th>\n",
       "      <th></th>\n",
       "      <th></th>\n",
       "    </tr>\n",
       "  </thead>\n",
       "  <tbody>\n",
       "    <tr>\n",
       "      <th>8blq21</th>\n",
       "      <td>1523489914</td>\n",
       "      <td>Heathcliff--</td>\n",
       "      <td>Just fucking lift already.\\n\\nThe vast majorit...</td>\n",
       "    </tr>\n",
       "    <tr>\n",
       "      <th>8bl1d2</th>\n",
       "      <td>1523484118</td>\n",
       "      <td>timber_ghost</td>\n",
       "      <td>[removed]</td>\n",
       "    </tr>\n",
       "    <tr>\n",
       "      <th>8bknm0</th>\n",
       "      <td>1523481125</td>\n",
       "      <td>Leg_Of_Lamb</td>\n",
       "      <td>[removed]</td>\n",
       "    </tr>\n",
       "    <tr>\n",
       "      <th>8bkimw</th>\n",
       "      <td>1523480066</td>\n",
       "      <td>SexdictatorLucifer</td>\n",
       "      <td>A long time ago, the human male decided to emb...</td>\n",
       "    </tr>\n",
       "    <tr>\n",
       "      <th>8bk5r4</th>\n",
       "      <td>1523477234</td>\n",
       "      <td>stacysmomlovesme</td>\n",
       "      <td>I recently wrote how water fasting can improve...</td>\n",
       "    </tr>\n",
       "  </tbody>\n",
       "</table>\n",
       "</div>"
      ],
      "text/plain": [
       "        created_utc              author  \\\n",
       "id                                        \n",
       "8blq21   1523489914        Heathcliff--   \n",
       "8bl1d2   1523484118        timber_ghost   \n",
       "8bknm0   1523481125         Leg_Of_Lamb   \n",
       "8bkimw   1523480066  SexdictatorLucifer   \n",
       "8bk5r4   1523477234    stacysmomlovesme   \n",
       "\n",
       "                                                 selftext  \n",
       "id                                                         \n",
       "8blq21  Just fucking lift already.\\n\\nThe vast majorit...  \n",
       "8bl1d2                                          [removed]  \n",
       "8bknm0                                          [removed]  \n",
       "8bkimw  A long time ago, the human male decided to emb...  \n",
       "8bk5r4  I recently wrote how water fasting can improve...  "
      ]
     },
     "execution_count": 122,
     "metadata": {},
     "output_type": "execute_result"
    }
   ],
   "source": [
    "submissions.head()"
   ]
  },
  {
   "cell_type": "code",
   "execution_count": 123,
   "id": "77c8dc12",
   "metadata": {},
   "outputs": [
    {
     "data": {
      "text/html": [
       "<div>\n",
       "<style scoped>\n",
       "    .dataframe tbody tr th:only-of-type {\n",
       "        vertical-align: middle;\n",
       "    }\n",
       "\n",
       "    .dataframe tbody tr th {\n",
       "        vertical-align: top;\n",
       "    }\n",
       "\n",
       "    .dataframe thead th {\n",
       "        text-align: right;\n",
       "    }\n",
       "</style>\n",
       "<table border=\"1\" class=\"dataframe\">\n",
       "  <thead>\n",
       "    <tr style=\"text-align: right;\">\n",
       "      <th></th>\n",
       "      <th>created_utc</th>\n",
       "      <th>author</th>\n",
       "      <th>selftext</th>\n",
       "    </tr>\n",
       "    <tr>\n",
       "      <th>id</th>\n",
       "      <th></th>\n",
       "      <th></th>\n",
       "      <th></th>\n",
       "    </tr>\n",
       "  </thead>\n",
       "  <tbody>\n",
       "    <tr>\n",
       "      <th>8bl1d2</th>\n",
       "      <td>1523484118</td>\n",
       "      <td>timber_ghost</td>\n",
       "      <td>[removed]</td>\n",
       "    </tr>\n",
       "    <tr>\n",
       "      <th>8bknm0</th>\n",
       "      <td>1523481125</td>\n",
       "      <td>Leg_Of_Lamb</td>\n",
       "      <td>[removed]</td>\n",
       "    </tr>\n",
       "    <tr>\n",
       "      <th>8bjypu</th>\n",
       "      <td>1523475770</td>\n",
       "      <td>SlightlyCyborg</td>\n",
       "      <td>[removed]</td>\n",
       "    </tr>\n",
       "    <tr>\n",
       "      <th>8bjv74</th>\n",
       "      <td>1523475008</td>\n",
       "      <td>Saberinbed</td>\n",
       "      <td>[removed]</td>\n",
       "    </tr>\n",
       "    <tr>\n",
       "      <th>8bjui4</th>\n",
       "      <td>1523474855</td>\n",
       "      <td>traktor28</td>\n",
       "      <td>[removed]</td>\n",
       "    </tr>\n",
       "    <tr>\n",
       "      <th>...</th>\n",
       "      <td>...</td>\n",
       "      <td>...</td>\n",
       "      <td>...</td>\n",
       "    </tr>\n",
       "    <tr>\n",
       "      <th>9f750q</th>\n",
       "      <td>1536753939</td>\n",
       "      <td>Classy_Amir</td>\n",
       "      <td>[removed]</td>\n",
       "    </tr>\n",
       "    <tr>\n",
       "      <th>9f6pae</th>\n",
       "      <td>1536750037</td>\n",
       "      <td>akkimadhuri94</td>\n",
       "      <td>[removed]</td>\n",
       "    </tr>\n",
       "    <tr>\n",
       "      <th>9f5q18</th>\n",
       "      <td>1536738549</td>\n",
       "      <td>Southiesir</td>\n",
       "      <td>[removed]</td>\n",
       "    </tr>\n",
       "    <tr>\n",
       "      <th>9f5gbm</th>\n",
       "      <td>1536735492</td>\n",
       "      <td>loveinterbeingwisdom</td>\n",
       "      <td>[removed]</td>\n",
       "    </tr>\n",
       "    <tr>\n",
       "      <th>9f4ntm</th>\n",
       "      <td>1536726765</td>\n",
       "      <td>SalsaBrava2323</td>\n",
       "      <td>[removed]</td>\n",
       "    </tr>\n",
       "  </tbody>\n",
       "</table>\n",
       "<p>3646 rows × 3 columns</p>\n",
       "</div>"
      ],
      "text/plain": [
       "        created_utc                author   selftext\n",
       "id                                                  \n",
       "8bl1d2   1523484118          timber_ghost  [removed]\n",
       "8bknm0   1523481125           Leg_Of_Lamb  [removed]\n",
       "8bjypu   1523475770        SlightlyCyborg  [removed]\n",
       "8bjv74   1523475008            Saberinbed  [removed]\n",
       "8bjui4   1523474855             traktor28  [removed]\n",
       "...             ...                   ...        ...\n",
       "9f750q   1536753939           Classy_Amir  [removed]\n",
       "9f6pae   1536750037         akkimadhuri94  [removed]\n",
       "9f5q18   1536738549            Southiesir  [removed]\n",
       "9f5gbm   1536735492  loveinterbeingwisdom  [removed]\n",
       "9f4ntm   1536726765        SalsaBrava2323  [removed]\n",
       "\n",
       "[3646 rows x 3 columns]"
      ]
     },
     "execution_count": 123,
     "metadata": {},
     "output_type": "execute_result"
    }
   ],
   "source": [
    "submissions[submissions['selftext']==('[removed]')]"
   ]
  },
  {
   "cell_type": "code",
   "execution_count": null,
   "id": "1faf4ceb",
   "metadata": {},
   "outputs": [],
   "source": [
    "# total # of rows\n",
    "submissions.shape[0]"
   ]
  }
 ],
 "metadata": {
  "kernelspec": {
   "display_name": "Python 3 (ipykernel)",
   "language": "python",
   "name": "python3"
  },
  "language_info": {
   "codemirror_mode": {
    "name": "ipython",
    "version": 3
   },
   "file_extension": ".py",
   "mimetype": "text/x-python",
   "name": "python",
   "nbconvert_exporter": "python",
   "pygments_lexer": "ipython3",
   "version": "3.10.2"
  }
 },
 "nbformat": 4,
 "nbformat_minor": 5
}
