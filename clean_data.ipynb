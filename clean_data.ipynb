{
 "cells": [
  {
   "cell_type": "markdown",
   "id": "3b456763",
   "metadata": {},
   "source": [
    "# Data Extract and Transform Process"
   ]
  },
  {
   "cell_type": "code",
   "execution_count": 1,
   "id": "fc83b005",
   "metadata": {},
   "outputs": [],
   "source": [
    "# import statements\n",
    "import pandas as pd\n",
    "from  datetime import datetime"
   ]
  },
  {
   "cell_type": "markdown",
   "id": "eaf78ca5",
   "metadata": {},
   "source": [
    "### Cleaning the Comments Dataset"
   ]
  },
  {
   "cell_type": "code",
   "execution_count": 34,
   "id": "704f7d87",
   "metadata": {},
   "outputs": [],
   "source": [
    "# read comments data\n",
    "comments = pd.read_json('trp_comments.json')"
   ]
  },
  {
   "cell_type": "code",
   "execution_count": null,
   "id": "bf335ea6",
   "metadata": {},
   "outputs": [],
   "source": [
    "comments.columns.unique()"
   ]
  },
  {
   "cell_type": "code",
   "execution_count": 35,
   "id": "5d8c717f",
   "metadata": {
    "scrolled": true
   },
   "outputs": [],
   "source": [
    "# filter to relevant columns\n",
    "comments = comments[['id', 'created_utc','user_removed', 'author', 'author_fullname', 'body']]"
   ]
  },
  {
   "cell_type": "code",
   "execution_count": 36,
   "id": "7e44dff1",
   "metadata": {
    "scrolled": true
   },
   "outputs": [],
   "source": [
    "# set index to comment id\n",
    "comments.set_index('id', inplace=True)"
   ]
  },
  {
   "cell_type": "code",
   "execution_count": 37,
   "id": "170ad597",
   "metadata": {},
   "outputs": [],
   "source": [
    "# Change from UNIX time to human-readable format\n",
    "comments['datetime'] = pd.to_datetime(comments['created_utc'], infer_datetime_format=True, unit='s')\n"
   ]
  },
  {
   "cell_type": "code",
   "execution_count": 6,
   "id": "37862aef",
   "metadata": {},
   "outputs": [
    {
     "data": {
      "text/plain": [
       "189806"
      ]
     },
     "execution_count": 6,
     "metadata": {},
     "output_type": "execute_result"
    }
   ],
   "source": [
    "# figure out how many comments are removed to be used in future parsing\n",
    "# if comment is removed, we will not use it for toxicity parsing\n",
    "\n",
    "# number of comments that weren't removed\n",
    "comments['user_removed'].isnull().sum()"
   ]
  },
  {
   "cell_type": "code",
   "execution_count": 7,
   "id": "69f91fa7",
   "metadata": {},
   "outputs": [
    {
     "data": {
      "text/plain": [
       "200139"
      ]
     },
     "execution_count": 7,
     "metadata": {},
     "output_type": "execute_result"
    }
   ],
   "source": [
    "# total number of rows\n",
    "len(comments['user_removed'])"
   ]
  },
  {
   "cell_type": "code",
   "execution_count": 8,
   "id": "d6886117",
   "metadata": {
    "scrolled": true
   },
   "outputs": [
    {
     "data": {
      "text/plain": [
       "5.16291177631546"
      ]
     },
     "execution_count": 8,
     "metadata": {},
     "output_type": "execute_result"
    }
   ],
   "source": [
    "# calculate percentage of rows with no body data\n",
    "# (num of comments that were removed / total comments) * 100\n",
    "((200139-189806)/200139)*100"
   ]
  },
  {
   "cell_type": "markdown",
   "id": "c6586b7c",
   "metadata": {},
   "source": [
    "~5.17% of all comments in the dataset do not have text that can be parsed"
   ]
  },
  {
   "cell_type": "code",
   "execution_count": 9,
   "id": "41df3224",
   "metadata": {
    "scrolled": true
   },
   "outputs": [],
   "source": [
    "# fill nulls with 0 to make column binary \n",
    "comments.fillna({'user_removed': 0}, inplace=True)"
   ]
  },
  {
   "cell_type": "markdown",
   "id": "9f4484ec",
   "metadata": {},
   "source": [
    "### Cleaning the Submissions Dataset"
   ]
  },
  {
   "cell_type": "code",
   "execution_count": 12,
   "id": "46783a5d",
   "metadata": {},
   "outputs": [],
   "source": [
    "submissions = pd.read_json('trp_submissions.json')"
   ]
  },
  {
   "cell_type": "code",
   "execution_count": 13,
   "id": "f19530ee",
   "metadata": {},
   "outputs": [],
   "source": [
    "# filter to relevant columns\n",
    "submissions = submissions[['id', 'created_utc', 'author', 'selftext']]"
   ]
  },
  {
   "cell_type": "code",
   "execution_count": 14,
   "id": "5701ce1b",
   "metadata": {},
   "outputs": [],
   "source": [
    "# set submissions index\n",
    "submissions.set_index('id', inplace=True)"
   ]
  },
  {
   "cell_type": "code",
   "execution_count": 15,
   "id": "d5bc3344",
   "metadata": {},
   "outputs": [
    {
     "data": {
      "text/html": [
       "<div>\n",
       "<style scoped>\n",
       "    .dataframe tbody tr th:only-of-type {\n",
       "        vertical-align: middle;\n",
       "    }\n",
       "\n",
       "    .dataframe tbody tr th {\n",
       "        vertical-align: top;\n",
       "    }\n",
       "\n",
       "    .dataframe thead th {\n",
       "        text-align: right;\n",
       "    }\n",
       "</style>\n",
       "<table border=\"1\" class=\"dataframe\">\n",
       "  <thead>\n",
       "    <tr style=\"text-align: right;\">\n",
       "      <th></th>\n",
       "      <th>created_utc</th>\n",
       "      <th>author</th>\n",
       "      <th>selftext</th>\n",
       "    </tr>\n",
       "    <tr>\n",
       "      <th>id</th>\n",
       "      <th></th>\n",
       "      <th></th>\n",
       "      <th></th>\n",
       "    </tr>\n",
       "  </thead>\n",
       "  <tbody>\n",
       "    <tr>\n",
       "      <th>8blq21</th>\n",
       "      <td>1523489914</td>\n",
       "      <td>Heathcliff--</td>\n",
       "      <td>Just fucking lift already.\\n\\nThe vast majorit...</td>\n",
       "    </tr>\n",
       "    <tr>\n",
       "      <th>8bl1d2</th>\n",
       "      <td>1523484118</td>\n",
       "      <td>timber_ghost</td>\n",
       "      <td>[removed]</td>\n",
       "    </tr>\n",
       "    <tr>\n",
       "      <th>8bknm0</th>\n",
       "      <td>1523481125</td>\n",
       "      <td>Leg_Of_Lamb</td>\n",
       "      <td>[removed]</td>\n",
       "    </tr>\n",
       "    <tr>\n",
       "      <th>8bkimw</th>\n",
       "      <td>1523480066</td>\n",
       "      <td>SexdictatorLucifer</td>\n",
       "      <td>A long time ago, the human male decided to emb...</td>\n",
       "    </tr>\n",
       "    <tr>\n",
       "      <th>8bk5r4</th>\n",
       "      <td>1523477234</td>\n",
       "      <td>stacysmomlovesme</td>\n",
       "      <td>I recently wrote how water fasting can improve...</td>\n",
       "    </tr>\n",
       "  </tbody>\n",
       "</table>\n",
       "</div>"
      ],
      "text/plain": [
       "        created_utc              author  \\\n",
       "id                                        \n",
       "8blq21   1523489914        Heathcliff--   \n",
       "8bl1d2   1523484118        timber_ghost   \n",
       "8bknm0   1523481125         Leg_Of_Lamb   \n",
       "8bkimw   1523480066  SexdictatorLucifer   \n",
       "8bk5r4   1523477234    stacysmomlovesme   \n",
       "\n",
       "                                                 selftext  \n",
       "id                                                         \n",
       "8blq21  Just fucking lift already.\\n\\nThe vast majorit...  \n",
       "8bl1d2                                          [removed]  \n",
       "8bknm0                                          [removed]  \n",
       "8bkimw  A long time ago, the human male decided to emb...  \n",
       "8bk5r4  I recently wrote how water fasting can improve...  "
      ]
     },
     "execution_count": 15,
     "metadata": {},
     "output_type": "execute_result"
    }
   ],
   "source": [
    "submissions.head()"
   ]
  },
  {
   "cell_type": "code",
   "execution_count": 16,
   "id": "4f405f42",
   "metadata": {},
   "outputs": [],
   "source": [
    "# Change from UNIX time to human-readable format\n",
    "submissions['datetime'] = pd.to_datetime(submissions['created_utc'], infer_datetime_format=True, unit='s')"
   ]
  },
  {
   "cell_type": "code",
   "execution_count": 17,
   "id": "e4467764",
   "metadata": {
    "scrolled": true
   },
   "outputs": [
    {
     "data": {
      "text/plain": [
       "3646"
      ]
     },
     "execution_count": 17,
     "metadata": {},
     "output_type": "execute_result"
    }
   ],
   "source": [
    "# determine how many submissions were removed/no longer viewable\n",
    "len(submissions[submissions['selftext']==('[removed]')])"
   ]
  },
  {
   "cell_type": "code",
   "execution_count": 18,
   "id": "8d4884c9",
   "metadata": {},
   "outputs": [
    {
     "data": {
      "text/plain": [
       "7118"
      ]
     },
     "execution_count": 18,
     "metadata": {},
     "output_type": "execute_result"
    }
   ],
   "source": [
    "# number of rows\n",
    "submissions.shape[0]"
   ]
  },
  {
   "cell_type": "markdown",
   "id": "e4988407",
   "metadata": {},
   "source": [
    "3646 out of 7118 rows (~51%) have had their posts removed.\n",
    "\n",
    "This is too large of a missing dataset."
   ]
  },
  {
   "cell_type": "markdown",
   "id": "e7a457f0",
   "metadata": {},
   "source": [
    "# Data Sanity Check"
   ]
  },
  {
   "cell_type": "markdown",
   "id": "2ca128e8",
   "metadata": {},
   "source": [
    "Checking to see which months have missing data in the collection process"
   ]
  },
  {
   "cell_type": "code",
   "execution_count": 19,
   "id": "e5506036",
   "metadata": {},
   "outputs": [
    {
     "data": {
      "text/plain": [
       "datetime  datetime\n",
       "2018      4           26678\n",
       "          5           30311\n",
       "          6           30677\n",
       "          7           28616\n",
       "          8           22791\n",
       "          9           23387\n",
       "          10          10862\n",
       "          11           9774\n",
       "          12          10935\n",
       "2019      4            6108\n",
       "dtype: int64"
      ]
     },
     "execution_count": 19,
     "metadata": {},
     "output_type": "execute_result"
    }
   ],
   "source": [
    "comments.groupby([comments['datetime'].dt.year, comments['datetime'].dt.month]).size()"
   ]
  },
  {
   "cell_type": "code",
   "execution_count": 21,
   "id": "f595b2ee",
   "metadata": {},
   "outputs": [
    {
     "data": {
      "text/plain": [
       "datetime  datetime\n",
       "2018      3            833\n",
       "          4            951\n",
       "          5           1067\n",
       "          6            976\n",
       "          7           1071\n",
       "          8            930\n",
       "          9            870\n",
       "2019      2            231\n",
       "          4            189\n",
       "dtype: int64"
      ]
     },
     "execution_count": 21,
     "metadata": {},
     "output_type": "execute_result"
    }
   ],
   "source": [
    "submissions.groupby([submissions['datetime'].dt.year, submissions['datetime'].dt.month]).size()"
   ]
  },
  {
   "cell_type": "code",
   "execution_count": 22,
   "id": "5300839a",
   "metadata": {
    "scrolled": true
   },
   "outputs": [
    {
     "data": {
      "text/plain": [
       "<AxesSubplot:xlabel='datetime,datetime'>"
      ]
     },
     "execution_count": 22,
     "metadata": {},
     "output_type": "execute_result"
    },
    {
     "data": {
      "image/png": "[encoded data removed]",
      "text/plain": [
       "<Figure size 720x216 with 1 Axes>"
      ]
     },
     "metadata": {
      "needs_background": "light"
     },
     "output_type": "display_data"
    }
   ],
   "source": [
    "comments.groupby([comments['datetime'].dt.year, comments['datetime'].dt.month]).size().plot(figsize=(10,3))"
   ]
  },
  {
   "cell_type": "code",
   "execution_count": 23,
   "id": "0bd8b1d3",
   "metadata": {
    "scrolled": true
   },
   "outputs": [
    {
     "data": {
      "text/plain": [
       "<AxesSubplot:xlabel='datetime,datetime'>"
      ]
     },
     "execution_count": 23,
     "metadata": {},
     "output_type": "execute_result"
    },
    {
     "data": {
      "image/png": "[encoded data removed]",
      "text/plain": [
       "<Figure size 720x216 with 1 Axes>"
      ]
     },
     "metadata": {
      "needs_background": "light"
     },
     "output_type": "display_data"
    }
   ],
   "source": [
    "submissions.groupby([submissions['datetime'].dt.year, submissions['datetime'].dt.month]).size().plot(figsize=(10,3))"
   ]
  },
  {
   "cell_type": "markdown",
   "id": "4ee59cac",
   "metadata": {},
   "source": [
    "## Moving Forward\n",
    "\n",
    "After conferring with the instructors, we have decided to only use the comments dataset filtered to the 120 day range corresponding to the 60 days before and after the quarantine intervention."
   ]
  },
  {
   "cell_type": "code",
   "execution_count": 39,
   "id": "4846da26",
   "metadata": {},
   "outputs": [],
   "source": [
    "# Observing only the comments 60 days before and\n",
    "# 60 days after 09/28/2018 (07/30/2018 - 11/27/2018) in the dataset.\n",
    "\n",
    "date_range = (comments['datetime'] > '2018-07-30') & (comments['datetime'] < '2018-11-28')"
   ]
  },
  {
   "cell_type": "code",
   "execution_count": 40,
   "id": "dd92cc53",
   "metadata": {},
   "outputs": [],
   "source": [
    "# apply date filter to comments df\n",
    "filtered_comments=comments[date_range]\n",
    "filtered_comments.sort_values(by='datetime', inplace=True)"
   ]
  },
  {
   "cell_type": "markdown",
   "id": "11e67c94",
   "metadata": {},
   "source": [
    "## Saving the New Data\n",
    "\n",
    "At this point, we have sufficiently arranged the data to answer Research Question 1 in regards to activity in the subreddit.\n",
    "\n",
    "To be used in further analysis, the filtered_comments table will be saved as a json."
   ]
  },
  {
   "cell_type": "code",
   "execution_count": 47,
   "id": "65d38d30",
   "metadata": {},
   "outputs": [],
   "source": [
    "filtered_comments.reset_index(inplace=True)"
   ]
  },
  {
   "cell_type": "code",
   "execution_count": 48,
   "id": "8ef30502",
   "metadata": {},
   "outputs": [],
   "source": [
    "filtered_comments.to_json('./rq1_comments.json')"
   ]
  }
 ],
 "metadata": {
  "kernelspec": {
   "display_name": "Python 3 (ipykernel)",
   "language": "python",
   "name": "python3"
  },
  "language_info": {
   "codemirror_mode": {
    "name": "ipython",
    "version": 3
   },
   "file_extension": ".py",
   "mimetype": "text/x-python",
   "name": "python",
   "nbconvert_exporter": "python",
   "pygments_lexer": "ipython3",
   "version": "3.10.2"
  }
 },
 "nbformat": 4,
 "nbformat_minor": 5
}
