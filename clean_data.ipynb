{
 "cells": [
  {
   "cell_type": "markdown",
   "id": "3b456763",
   "metadata": {},
   "source": [
    "# Data Extract and Transform Process"
   ]
  },
  {
   "cell_type": "code",
   "execution_count": null,
   "id": "fc83b005",
   "metadata": {},
   "outputs": [],
   "source": [
    "# import statements\n",
    "import pandas as pd\n",
    "import numpy as np\n",
    "import seaborn as sns\n",
    "from  datetime import datetime"
   ]
  },
  {
   "cell_type": "markdown",
   "id": "eaf78ca5",
   "metadata": {},
   "source": [
    "### Cleaning the Comments Dataset"
   ]
  },
  {
   "cell_type": "code",
   "execution_count": null,
   "id": "704f7d87",
   "metadata": {},
   "outputs": [],
   "source": [
    "# read comments data\n",
    "comments = pd.read_json('trp_comments.json')"
   ]
  },
  {
   "cell_type": "code",
   "execution_count": null,
   "id": "bf335ea6",
   "metadata": {},
   "outputs": [],
   "source": [
    "comments.columns.unique()"
   ]
  },
  {
   "cell_type": "code",
   "execution_count": null,
   "id": "5d8c717f",
   "metadata": {
    "scrolled": true
   },
   "outputs": [],
   "source": [
    "# filter to relevant columns\n",
    "comments = comments[['id', 'created_utc','user_removed', 'author', 'author_fullname', 'body']]"
   ]
  },
  {
   "cell_type": "code",
   "execution_count": null,
   "id": "7e44dff1",
   "metadata": {
    "scrolled": true
   },
   "outputs": [],
   "source": [
    "# set index to comment id\n",
    "comments.set_index('id', inplace=True)"
   ]
  },
  {
   "cell_type": "code",
   "execution_count": null,
   "id": "170ad597",
   "metadata": {},
   "outputs": [],
   "source": [
    "# Change from UNIX time to human-readable format\n",
    "comments['datetime'] = pd.to_datetime(comments['created_utc'], infer_datetime_format=True, unit='s')\n",
    "comments['date'] = pd.to_datetime(comments['datetime']).dt.date\n",
    "comments['day'] = pd.to_datetime(comments['datetime']).dt.day\n",
    "comments['month'] = pd.to_datetime(comments['datetime']).dt.month\n",
    "comments['year'] = pd.to_datetime(comments['datetime']).dt.year"
   ]
  },
  {
   "cell_type": "code",
   "execution_count": null,
   "id": "37862aef",
   "metadata": {},
   "outputs": [],
   "source": [
    "# figure out how many comments are removed to be used in future parsing\n",
    "# if comment is removed, we will not use it for toxicity parsing\n",
    "\n",
    "# number of comments that weren't removed\n",
    "comments['user_removed'].isnull().sum()"
   ]
  },
  {
   "cell_type": "code",
   "execution_count": null,
   "id": "69f91fa7",
   "metadata": {},
   "outputs": [],
   "source": [
    "# total number of rows\n",
    "len(comments['user_removed'])"
   ]
  },
  {
   "cell_type": "code",
   "execution_count": null,
   "id": "d6886117",
   "metadata": {
    "scrolled": true
   },
   "outputs": [],
   "source": [
    "# calculate percentage of rows with no body data\n",
    "# (num of comments that were removed / total comments) * 100\n",
    "((200139-189806)/200139)*100"
   ]
  },
  {
   "cell_type": "markdown",
   "id": "c6586b7c",
   "metadata": {},
   "source": [
    "~5.17% of all comments in the dataset do not have text that can be parsed"
   ]
  },
  {
   "cell_type": "code",
   "execution_count": null,
   "id": "41df3224",
   "metadata": {
    "scrolled": true
   },
   "outputs": [],
   "source": [
    "# fill nulls with 0 to make column binary \n",
    "comments.fillna({'user_removed': 0}, inplace=True)"
   ]
  },
  {
   "cell_type": "markdown",
   "id": "9f4484ec",
   "metadata": {},
   "source": [
    "### Cleaning the Submissions Dataset"
   ]
  },
  {
   "cell_type": "code",
   "execution_count": null,
   "id": "46783a5d",
   "metadata": {},
   "outputs": [],
   "source": [
    "submissions = pd.read_json('trp_submissions.json')"
   ]
  },
  {
   "cell_type": "code",
   "execution_count": null,
   "id": "3fe9b056",
   "metadata": {},
   "outputs": [],
   "source": [
    "submissions.columns.unique()"
   ]
  },
  {
   "cell_type": "code",
   "execution_count": null,
   "id": "f19530ee",
   "metadata": {},
   "outputs": [],
   "source": [
    "# filter to relevant columns\n",
    "submissions = submissions[['id', 'created_utc', 'author', 'selftext']]"
   ]
  },
  {
   "cell_type": "code",
   "execution_count": null,
   "id": "5701ce1b",
   "metadata": {},
   "outputs": [],
   "source": [
    "# set submissions index\n",
    "submissions.set_index('id', inplace=True)"
   ]
  },
  {
   "cell_type": "code",
   "execution_count": null,
   "id": "d5bc3344",
   "metadata": {},
   "outputs": [],
   "source": [
    "submissions.head()"
   ]
  },
  {
   "cell_type": "code",
   "execution_count": null,
   "id": "4f405f42",
   "metadata": {},
   "outputs": [],
   "source": [
    "# Change from UNIX time to human-readable format\n",
    "submissions['datetime'] = pd.to_datetime(submissions['created_utc'], infer_datetime_format=True, unit='s')\n",
    "submissions['date'] = pd.to_datetime(submissions['datetime']).dt.date\n",
    "submissions['day'] = pd.to_datetime(submissions['datetime']).dt.day\n",
    "submissions['month'] = pd.to_datetime(submissions['datetime']).dt.month\n",
    "submissions['year'] = pd.to_datetime(submissions['datetime']).dt.year"
   ]
  },
  {
   "cell_type": "code",
   "execution_count": null,
   "id": "e4467764",
   "metadata": {
    "scrolled": true
   },
   "outputs": [],
   "source": [
    "# determine how many submissions were removed/no longer viewable\n",
    "len(submissions[submissions['selftext']==('[removed]')])"
   ]
  },
  {
   "cell_type": "code",
   "execution_count": null,
   "id": "8d4884c9",
   "metadata": {},
   "outputs": [],
   "source": [
    "# number of rows\n",
    "submissions.shape[0]"
   ]
  },
  {
   "cell_type": "markdown",
   "id": "e4988407",
   "metadata": {},
   "source": [
    "3646 out of 7118 rows (~51%) have had their posts removed.\n",
    "\n",
    "This is too large of a missing dataset."
   ]
  },
  {
   "cell_type": "markdown",
   "id": "e7a457f0",
   "metadata": {},
   "source": [
    "# Data Sanity Check"
   ]
  },
  {
   "cell_type": "markdown",
   "id": "2ca128e8",
   "metadata": {},
   "source": [
    "Checking to see which months have missing data in the collection process"
   ]
  },
  {
   "cell_type": "code",
   "execution_count": null,
   "id": "e5506036",
   "metadata": {},
   "outputs": [],
   "source": [
    "comments.groupby([comments['year'], comments['month']]).size()"
   ]
  },
  {
   "cell_type": "code",
   "execution_count": null,
   "id": "f595b2ee",
   "metadata": {},
   "outputs": [],
   "source": [
    "submissions.groupby([submissions['year'], submissions['month']]).size()"
   ]
  },
  {
   "cell_type": "code",
   "execution_count": null,
   "id": "5300839a",
   "metadata": {},
   "outputs": [],
   "source": [
    "comments.groupby([comments['year'], comments['month']]).size().plot(figsize=(10,3))"
   ]
  },
  {
   "cell_type": "code",
   "execution_count": null,
   "id": "0bd8b1d3",
   "metadata": {
    "scrolled": true
   },
   "outputs": [],
   "source": [
    "submissions.groupby([submissions['year'], submissions['month']]).size().plot(figsize=(10,3))"
   ]
  },
  {
   "cell_type": "code",
   "execution_count": null,
   "id": "f71564fa",
   "metadata": {},
   "outputs": [],
   "source": []
  }
 ],
 "metadata": {
  "kernelspec": {
   "display_name": "Python 3 (ipykernel)",
   "language": "python",
   "name": "python3"
  },
  "language_info": {
   "codemirror_mode": {
    "name": "ipython",
    "version": 3
   },
   "file_extension": ".py",
   "mimetype": "text/x-python",
   "name": "python",
   "nbconvert_exporter": "python",
   "pygments_lexer": "ipython3",
   "version": "3.10.2"
  }
 },
 "nbformat": 4,
 "nbformat_minor": 5
}
