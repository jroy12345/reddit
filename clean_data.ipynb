{
 "cells": [
  {
   "cell_type": "markdown",
   "id": "3b456763",
   "metadata": {},
   "source": [
    "# Data Extract and Transform Process"
   ]
  },
  {
   "cell_type": "code",
   "execution_count": 1,
   "id": "fc83b005",
   "metadata": {},
   "outputs": [],
   "source": [
    "# import statements\n",
    "import pandas as pd\n",
    "import numpy as np\n",
    "import seaborn as sns\n",
    "from  datetime import datetime"
   ]
  },
  {
   "cell_type": "markdown",
   "id": "eaf78ca5",
   "metadata": {},
   "source": [
    "### Cleaning the Comments Dataset"
   ]
  },
  {
   "cell_type": "code",
   "execution_count": 2,
   "id": "704f7d87",
   "metadata": {},
   "outputs": [],
   "source": [
    "# read comments data\n",
    "comments = pd.read_json('trp_comments.json')"
   ]
  },
  {
   "cell_type": "code",
   "execution_count": 3,
   "id": "7fca2ff0",
   "metadata": {},
   "outputs": [
    {
     "data": {
      "text/plain": [
       "Index(['author', 'author_flair_background_color', 'author_flair_css_class',\n",
       "       'author_flair_richtext', 'author_flair_template_id',\n",
       "       'author_flair_text', 'author_flair_text_color', 'author_flair_type',\n",
       "       'author_fullname', 'author_patreon_flair', 'body', 'created_utc',\n",
       "       'gildings', 'id', 'is_submitter', 'link_id', 'locked', 'no_follow',\n",
       "       'parent_id', 'permalink', 'retrieved_on', 'score', 'send_replies',\n",
       "       'stickied', 'subreddit', 'subreddit_id', 'updated_utc', 'distinguished',\n",
       "       'author_created_utc', 'can_gild', 'collapsed', 'collapsed_reason',\n",
       "       'controversiality', 'gilded', 'nest_level', 'reply_delay',\n",
       "       'subreddit_name_prefixed', 'subreddit_type', 'user_removed', 'edited',\n",
       "       'mod_removed', 'author_cakeday', 'score_hidden', 'rte_mode',\n",
       "       'all_awardings', 'associated_award', 'author_premium', 'awarders',\n",
       "       'collapsed_because_crowd_control', 'total_awards_received',\n",
       "       'treatment_tags', 'top_awarded_type'],\n",
       "      dtype='object')"
      ]
     },
     "execution_count": 3,
     "metadata": {},
     "output_type": "execute_result"
    }
   ],
   "source": [
    "comments.columns.unique()"
   ]
  },
  {
   "cell_type": "code",
   "execution_count": 4,
   "id": "5d8c717f",
   "metadata": {
    "scrolled": true
   },
   "outputs": [],
   "source": [
    "# filter to relevant columns\n",
    "comments = comments[['id', 'created_utc','user_removed', 'author', 'author_fullname', 'body']]"
   ]
  },
  {
   "cell_type": "code",
   "execution_count": 5,
   "id": "1314a1b6",
   "metadata": {},
   "outputs": [
    {
     "data": {
      "text/html": [
       "<div>\n",
       "<style scoped>\n",
       "    .dataframe tbody tr th:only-of-type {\n",
       "        vertical-align: middle;\n",
       "    }\n",
       "\n",
       "    .dataframe tbody tr th {\n",
       "        vertical-align: top;\n",
       "    }\n",
       "\n",
       "    .dataframe thead th {\n",
       "        text-align: right;\n",
       "    }\n",
       "</style>\n",
       "<table border=\"1\" class=\"dataframe\">\n",
       "  <thead>\n",
       "    <tr style=\"text-align: right;\">\n",
       "      <th></th>\n",
       "      <th>id</th>\n",
       "      <th>created_utc</th>\n",
       "      <th>user_removed</th>\n",
       "      <th>author</th>\n",
       "      <th>author_fullname</th>\n",
       "      <th>body</th>\n",
       "    </tr>\n",
       "  </thead>\n",
       "  <tbody>\n",
       "    <tr>\n",
       "      <th>0</th>\n",
       "      <td>elpa5o3</td>\n",
       "      <td>1556150247</td>\n",
       "      <td>NaN</td>\n",
       "      <td>MCATL2244</td>\n",
       "      <td>t2_2dedl9be</td>\n",
       "      <td>Thanks again for your reply. Do you think the ...</td>\n",
       "    </tr>\n",
       "    <tr>\n",
       "      <th>1</th>\n",
       "      <td>elp90h2</td>\n",
       "      <td>1556149433</td>\n",
       "      <td>NaN</td>\n",
       "      <td>The-Peter-Principle</td>\n",
       "      <td>t2_typex</td>\n",
       "      <td>No way “Lawrence” is real. Too much of a cardb...</td>\n",
       "    </tr>\n",
       "    <tr>\n",
       "      <th>2</th>\n",
       "      <td>elp8zc6</td>\n",
       "      <td>1556149410</td>\n",
       "      <td>NaN</td>\n",
       "      <td>DeGENZerate</td>\n",
       "      <td>t2_1zs412ua</td>\n",
       "      <td>Trannies are disgusting and everyone here agre...</td>\n",
       "    </tr>\n",
       "    <tr>\n",
       "      <th>3</th>\n",
       "      <td>elp8rhe</td>\n",
       "      <td>1556149249</td>\n",
       "      <td>NaN</td>\n",
       "      <td>Gods_ssoldiers</td>\n",
       "      <td>t2_3n22trb1</td>\n",
       "      <td>Can you PM me who you're talking about?</td>\n",
       "    </tr>\n",
       "    <tr>\n",
       "      <th>4</th>\n",
       "      <td>elp8qte</td>\n",
       "      <td>1556149236</td>\n",
       "      <td>NaN</td>\n",
       "      <td>EdmondDaunts</td>\n",
       "      <td>t2_r8yzo</td>\n",
       "      <td>Wonder Woman is a goddess, literally. So she r...</td>\n",
       "    </tr>\n",
       "  </tbody>\n",
       "</table>\n",
       "</div>"
      ],
      "text/plain": [
       "        id  created_utc  user_removed               author author_fullname  \\\n",
       "0  elpa5o3   1556150247           NaN            MCATL2244     t2_2dedl9be   \n",
       "1  elp90h2   1556149433           NaN  The-Peter-Principle        t2_typex   \n",
       "2  elp8zc6   1556149410           NaN          DeGENZerate     t2_1zs412ua   \n",
       "3  elp8rhe   1556149249           NaN       Gods_ssoldiers     t2_3n22trb1   \n",
       "4  elp8qte   1556149236           NaN         EdmondDaunts        t2_r8yzo   \n",
       "\n",
       "                                                body  \n",
       "0  Thanks again for your reply. Do you think the ...  \n",
       "1  No way “Lawrence” is real. Too much of a cardb...  \n",
       "2  Trannies are disgusting and everyone here agre...  \n",
       "3            Can you PM me who you're talking about?  \n",
       "4  Wonder Woman is a goddess, literally. So she r...  "
      ]
     },
     "execution_count": 5,
     "metadata": {},
     "output_type": "execute_result"
    }
   ],
   "source": [
    "comments.head()"
   ]
  },
  {
   "cell_type": "code",
   "execution_count": 6,
   "id": "7e44dff1",
   "metadata": {
    "scrolled": true
   },
   "outputs": [],
   "source": [
    "# set index to comment id\n",
    "comments.set_index('id', inplace=True)"
   ]
  },
  {
   "cell_type": "code",
   "execution_count": 7,
   "id": "170ad597",
   "metadata": {},
   "outputs": [],
   "source": [
    "# Change from POSIX time to human-readable format\n",
    "comments['datetime'] = pd.to_datetime(comments['created_utc'], infer_datetime_format=True, unit='s')\n",
    "comments['date'] = pd.to_datetime(comments['datetime']).dt.date\n",
    "comments['day'] = pd.to_datetime(comments['datetime']).dt.day\n",
    "comments['month'] = pd.to_datetime(comments['datetime']).dt.month\n",
    "comments['year'] = pd.to_datetime(comments['datetime']).dt.year"
   ]
  },
  {
   "cell_type": "code",
   "execution_count": 8,
   "id": "0764d7d3",
   "metadata": {
    "scrolled": true
   },
   "outputs": [
    {
     "data": {
      "text/html": [
       "<div>\n",
       "<style scoped>\n",
       "    .dataframe tbody tr th:only-of-type {\n",
       "        vertical-align: middle;\n",
       "    }\n",
       "\n",
       "    .dataframe tbody tr th {\n",
       "        vertical-align: top;\n",
       "    }\n",
       "\n",
       "    .dataframe thead th {\n",
       "        text-align: right;\n",
       "    }\n",
       "</style>\n",
       "<table border=\"1\" class=\"dataframe\">\n",
       "  <thead>\n",
       "    <tr style=\"text-align: right;\">\n",
       "      <th></th>\n",
       "      <th>created_utc</th>\n",
       "      <th>user_removed</th>\n",
       "      <th>author</th>\n",
       "      <th>author_fullname</th>\n",
       "      <th>body</th>\n",
       "      <th>datetime</th>\n",
       "      <th>date</th>\n",
       "      <th>day</th>\n",
       "      <th>month</th>\n",
       "      <th>year</th>\n",
       "    </tr>\n",
       "    <tr>\n",
       "      <th>id</th>\n",
       "      <th></th>\n",
       "      <th></th>\n",
       "      <th></th>\n",
       "      <th></th>\n",
       "      <th></th>\n",
       "      <th></th>\n",
       "      <th></th>\n",
       "      <th></th>\n",
       "      <th></th>\n",
       "      <th></th>\n",
       "    </tr>\n",
       "  </thead>\n",
       "  <tbody>\n",
       "    <tr>\n",
       "      <th>elpa5o3</th>\n",
       "      <td>1556150247</td>\n",
       "      <td>NaN</td>\n",
       "      <td>MCATL2244</td>\n",
       "      <td>t2_2dedl9be</td>\n",
       "      <td>Thanks again for your reply. Do you think the ...</td>\n",
       "      <td>2019-04-24 23:57:27</td>\n",
       "      <td>2019-04-24</td>\n",
       "      <td>24</td>\n",
       "      <td>4</td>\n",
       "      <td>2019</td>\n",
       "    </tr>\n",
       "    <tr>\n",
       "      <th>elp90h2</th>\n",
       "      <td>1556149433</td>\n",
       "      <td>NaN</td>\n",
       "      <td>The-Peter-Principle</td>\n",
       "      <td>t2_typex</td>\n",
       "      <td>No way “Lawrence” is real. Too much of a cardb...</td>\n",
       "      <td>2019-04-24 23:43:53</td>\n",
       "      <td>2019-04-24</td>\n",
       "      <td>24</td>\n",
       "      <td>4</td>\n",
       "      <td>2019</td>\n",
       "    </tr>\n",
       "    <tr>\n",
       "      <th>elp8zc6</th>\n",
       "      <td>1556149410</td>\n",
       "      <td>NaN</td>\n",
       "      <td>DeGENZerate</td>\n",
       "      <td>t2_1zs412ua</td>\n",
       "      <td>Trannies are disgusting and everyone here agre...</td>\n",
       "      <td>2019-04-24 23:43:30</td>\n",
       "      <td>2019-04-24</td>\n",
       "      <td>24</td>\n",
       "      <td>4</td>\n",
       "      <td>2019</td>\n",
       "    </tr>\n",
       "    <tr>\n",
       "      <th>elp8rhe</th>\n",
       "      <td>1556149249</td>\n",
       "      <td>NaN</td>\n",
       "      <td>Gods_ssoldiers</td>\n",
       "      <td>t2_3n22trb1</td>\n",
       "      <td>Can you PM me who you're talking about?</td>\n",
       "      <td>2019-04-24 23:40:49</td>\n",
       "      <td>2019-04-24</td>\n",
       "      <td>24</td>\n",
       "      <td>4</td>\n",
       "      <td>2019</td>\n",
       "    </tr>\n",
       "    <tr>\n",
       "      <th>elp8qte</th>\n",
       "      <td>1556149236</td>\n",
       "      <td>NaN</td>\n",
       "      <td>EdmondDaunts</td>\n",
       "      <td>t2_r8yzo</td>\n",
       "      <td>Wonder Woman is a goddess, literally. So she r...</td>\n",
       "      <td>2019-04-24 23:40:36</td>\n",
       "      <td>2019-04-24</td>\n",
       "      <td>24</td>\n",
       "      <td>4</td>\n",
       "      <td>2019</td>\n",
       "    </tr>\n",
       "  </tbody>\n",
       "</table>\n",
       "</div>"
      ],
      "text/plain": [
       "         created_utc  user_removed               author author_fullname  \\\n",
       "id                                                                        \n",
       "elpa5o3   1556150247           NaN            MCATL2244     t2_2dedl9be   \n",
       "elp90h2   1556149433           NaN  The-Peter-Principle        t2_typex   \n",
       "elp8zc6   1556149410           NaN          DeGENZerate     t2_1zs412ua   \n",
       "elp8rhe   1556149249           NaN       Gods_ssoldiers     t2_3n22trb1   \n",
       "elp8qte   1556149236           NaN         EdmondDaunts        t2_r8yzo   \n",
       "\n",
       "                                                      body  \\\n",
       "id                                                           \n",
       "elpa5o3  Thanks again for your reply. Do you think the ...   \n",
       "elp90h2  No way “Lawrence” is real. Too much of a cardb...   \n",
       "elp8zc6  Trannies are disgusting and everyone here agre...   \n",
       "elp8rhe            Can you PM me who you're talking about?   \n",
       "elp8qte  Wonder Woman is a goddess, literally. So she r...   \n",
       "\n",
       "                   datetime        date  day  month  year  \n",
       "id                                                         \n",
       "elpa5o3 2019-04-24 23:57:27  2019-04-24   24      4  2019  \n",
       "elp90h2 2019-04-24 23:43:53  2019-04-24   24      4  2019  \n",
       "elp8zc6 2019-04-24 23:43:30  2019-04-24   24      4  2019  \n",
       "elp8rhe 2019-04-24 23:40:49  2019-04-24   24      4  2019  \n",
       "elp8qte 2019-04-24 23:40:36  2019-04-24   24      4  2019  "
      ]
     },
     "execution_count": 8,
     "metadata": {},
     "output_type": "execute_result"
    }
   ],
   "source": [
    "comments.head()"
   ]
  },
  {
   "cell_type": "code",
   "execution_count": 9,
   "id": "37862aef",
   "metadata": {},
   "outputs": [
    {
     "data": {
      "text/plain": [
       "189806"
      ]
     },
     "execution_count": 9,
     "metadata": {},
     "output_type": "execute_result"
    }
   ],
   "source": [
    "# figure out how many comments are removed to be used in future parsing\n",
    "# if comment is removed, we will not use it for toxicity parsing\n",
    "\n",
    "# number of comments that weren't removed\n",
    "comments['user_removed'].isnull().sum()"
   ]
  },
  {
   "cell_type": "code",
   "execution_count": 10,
   "id": "69f91fa7",
   "metadata": {},
   "outputs": [
    {
     "data": {
      "text/plain": [
       "200139"
      ]
     },
     "execution_count": 10,
     "metadata": {},
     "output_type": "execute_result"
    }
   ],
   "source": [
    "# total number of rows\n",
    "len(comments['user_removed'])"
   ]
  },
  {
   "cell_type": "code",
   "execution_count": 11,
   "id": "d6886117",
   "metadata": {
    "scrolled": true
   },
   "outputs": [
    {
     "data": {
      "text/plain": [
       "5.16291177631546"
      ]
     },
     "execution_count": 11,
     "metadata": {},
     "output_type": "execute_result"
    }
   ],
   "source": [
    "# calculate percentage of rows with no body data\n",
    "# (num of comments that were removed / total comments) * 100\n",
    "((200139-189806)/200139)*100"
   ]
  },
  {
   "cell_type": "markdown",
   "id": "c6586b7c",
   "metadata": {},
   "source": [
    "~5.17% of all comments in the dataset do not have text that can be parsed"
   ]
  },
  {
   "cell_type": "code",
   "execution_count": 12,
   "id": "41df3224",
   "metadata": {
    "scrolled": true
   },
   "outputs": [],
   "source": [
    "# fill nulls with 0 to make column binary \n",
    "comments.fillna({'user_removed': 0}, inplace=True)"
   ]
  },
  {
   "cell_type": "markdown",
   "id": "9f4484ec",
   "metadata": {},
   "source": [
    "### Cleaning the Submissions Dataset"
   ]
  },
  {
   "cell_type": "code",
   "execution_count": 13,
   "id": "46783a5d",
   "metadata": {},
   "outputs": [],
   "source": [
    "submissions = pd.read_json('trp_submissions.json')"
   ]
  },
  {
   "cell_type": "code",
   "execution_count": 14,
   "id": "3fe9b056",
   "metadata": {},
   "outputs": [
    {
     "data": {
      "text/plain": [
       "Index(['author', 'author_flair_css_class', 'author_flair_richtext',\n",
       "       'author_flair_text', 'author_flair_type', 'brand_safe', 'can_mod_post',\n",
       "       'contest_mode', 'created_utc', 'domain', 'full_link', 'id',\n",
       "       'is_crosspostable', 'is_original_content', 'is_reddit_media_domain',\n",
       "       'is_self', 'is_video', 'link_flair_background_color',\n",
       "       'link_flair_css_class', 'link_flair_richtext', 'link_flair_template_id',\n",
       "       'link_flair_text', 'link_flair_text_color', 'link_flair_type', 'locked',\n",
       "       'no_follow', 'num_comments', 'num_crossposts', 'over_18',\n",
       "       'parent_whitelist_status', 'permalink', 'pinned', 'retrieved_on',\n",
       "       'rte_mode', 'score', 'selftext', 'send_replies', 'spoiler', 'stickied',\n",
       "       'subreddit', 'subreddit_id', 'subreddit_subscribers', 'subreddit_type',\n",
       "       'thumbnail', 'title', 'url', 'whitelist_status', 'edited',\n",
       "       'author_flair_background_color', 'author_flair_text_color', 'banned_by',\n",
       "       'post_hint', 'preview', 'distinguished', 'gilded', 'media_only', 'pwls',\n",
       "       'wls', 'is_meta', 'crosspost_parent', 'crosspost_parent_list',\n",
       "       'all_awardings', 'allow_live_comments', 'author_fullname',\n",
       "       'author_patreon_flair', 'author_premium', 'awarders', 'gildings',\n",
       "       'is_robot_indexable', 'total_awards_received', 'treatment_tags',\n",
       "       'upvote_ratio', 'archived', 'author_created_utc',\n",
       "       'author_flair_template_id', 'can_gild', 'category',\n",
       "       'content_categories', 'hidden', 'media', 'media_embed', 'quarantine',\n",
       "       'removal_reason', 'secure_media', 'secure_media_embed',\n",
       "       'subreddit_name_prefixed', 'suggested_sort', 'thumbnail_height',\n",
       "       'thumbnail_width', 'updated_utc', 'author_cakeday', 'media_metadata',\n",
       "       'removed_by_category', 'previous_visits', 'author_id'],\n",
       "      dtype='object')"
      ]
     },
     "execution_count": 14,
     "metadata": {},
     "output_type": "execute_result"
    }
   ],
   "source": [
    "submissions.columns.unique()"
   ]
  },
  {
   "cell_type": "code",
   "execution_count": 15,
   "id": "f19530ee",
   "metadata": {},
   "outputs": [],
   "source": [
    "# filter to relevant columns\n",
    "submissions = submissions[['id', 'created_utc', 'author', 'selftext']]"
   ]
  },
  {
   "cell_type": "code",
   "execution_count": 16,
   "id": "5701ce1b",
   "metadata": {},
   "outputs": [],
   "source": [
    "# set submissions index\n",
    "submissions.set_index('id', inplace=True)"
   ]
  },
  {
   "cell_type": "code",
   "execution_count": 17,
   "id": "d5bc3344",
   "metadata": {},
   "outputs": [
    {
     "data": {
      "text/html": [
       "<div>\n",
       "<style scoped>\n",
       "    .dataframe tbody tr th:only-of-type {\n",
       "        vertical-align: middle;\n",
       "    }\n",
       "\n",
       "    .dataframe tbody tr th {\n",
       "        vertical-align: top;\n",
       "    }\n",
       "\n",
       "    .dataframe thead th {\n",
       "        text-align: right;\n",
       "    }\n",
       "</style>\n",
       "<table border=\"1\" class=\"dataframe\">\n",
       "  <thead>\n",
       "    <tr style=\"text-align: right;\">\n",
       "      <th></th>\n",
       "      <th>created_utc</th>\n",
       "      <th>author</th>\n",
       "      <th>selftext</th>\n",
       "    </tr>\n",
       "    <tr>\n",
       "      <th>id</th>\n",
       "      <th></th>\n",
       "      <th></th>\n",
       "      <th></th>\n",
       "    </tr>\n",
       "  </thead>\n",
       "  <tbody>\n",
       "    <tr>\n",
       "      <th>8blq21</th>\n",
       "      <td>1523489914</td>\n",
       "      <td>Heathcliff--</td>\n",
       "      <td>Just fucking lift already.\\n\\nThe vast majorit...</td>\n",
       "    </tr>\n",
       "    <tr>\n",
       "      <th>8bl1d2</th>\n",
       "      <td>1523484118</td>\n",
       "      <td>timber_ghost</td>\n",
       "      <td>[removed]</td>\n",
       "    </tr>\n",
       "    <tr>\n",
       "      <th>8bknm0</th>\n",
       "      <td>1523481125</td>\n",
       "      <td>Leg_Of_Lamb</td>\n",
       "      <td>[removed]</td>\n",
       "    </tr>\n",
       "    <tr>\n",
       "      <th>8bkimw</th>\n",
       "      <td>1523480066</td>\n",
       "      <td>SexdictatorLucifer</td>\n",
       "      <td>A long time ago, the human male decided to emb...</td>\n",
       "    </tr>\n",
       "    <tr>\n",
       "      <th>8bk5r4</th>\n",
       "      <td>1523477234</td>\n",
       "      <td>stacysmomlovesme</td>\n",
       "      <td>I recently wrote how water fasting can improve...</td>\n",
       "    </tr>\n",
       "  </tbody>\n",
       "</table>\n",
       "</div>"
      ],
      "text/plain": [
       "        created_utc              author  \\\n",
       "id                                        \n",
       "8blq21   1523489914        Heathcliff--   \n",
       "8bl1d2   1523484118        timber_ghost   \n",
       "8bknm0   1523481125         Leg_Of_Lamb   \n",
       "8bkimw   1523480066  SexdictatorLucifer   \n",
       "8bk5r4   1523477234    stacysmomlovesme   \n",
       "\n",
       "                                                 selftext  \n",
       "id                                                         \n",
       "8blq21  Just fucking lift already.\\n\\nThe vast majorit...  \n",
       "8bl1d2                                          [removed]  \n",
       "8bknm0                                          [removed]  \n",
       "8bkimw  A long time ago, the human male decided to emb...  \n",
       "8bk5r4  I recently wrote how water fasting can improve...  "
      ]
     },
     "execution_count": 17,
     "metadata": {},
     "output_type": "execute_result"
    }
   ],
   "source": [
    "submissions.head()"
   ]
  },
  {
   "cell_type": "code",
   "execution_count": 18,
   "id": "4f405f42",
   "metadata": {},
   "outputs": [],
   "source": [
    "# Change from POSIX time to human-readable format\n",
    "submissions['datetime'] = pd.to_datetime(submissions['created_utc'], infer_datetime_format=True, unit='s')\n",
    "submissions['date'] = pd.to_datetime(submissions['datetime']).dt.date\n",
    "submissions['day'] = pd.to_datetime(submissions['datetime']).dt.day\n",
    "submissions['month'] = pd.to_datetime(submissions['datetime']).dt.month\n",
    "submissions['year'] = pd.to_datetime(submissions['datetime']).dt.year"
   ]
  },
  {
   "cell_type": "code",
   "execution_count": 19,
   "id": "e4467764",
   "metadata": {
    "scrolled": true
   },
   "outputs": [
    {
     "data": {
      "text/plain": [
       "3646"
      ]
     },
     "execution_count": 19,
     "metadata": {},
     "output_type": "execute_result"
    }
   ],
   "source": [
    "# determine how many submissions were removed/no longer viewable\n",
    "len(submissions[submissions['selftext']==('[removed]')])"
   ]
  },
  {
   "cell_type": "code",
   "execution_count": 20,
   "id": "8d4884c9",
   "metadata": {},
   "outputs": [
    {
     "data": {
      "text/plain": [
       "7118"
      ]
     },
     "execution_count": 20,
     "metadata": {},
     "output_type": "execute_result"
    }
   ],
   "source": [
    "# number of rows\n",
    "submissions.shape[0]"
   ]
  },
  {
   "cell_type": "markdown",
   "id": "e4988407",
   "metadata": {},
   "source": [
    "3646 out of 7118 rows (~51%) have had their posts removed.\n",
    "\n",
    "This is too large of a missing dataset."
   ]
  },
  {
   "cell_type": "markdown",
   "id": "e7a457f0",
   "metadata": {},
   "source": [
    "# Data Sanity Check"
   ]
  },
  {
   "cell_type": "markdown",
   "id": "2ca128e8",
   "metadata": {},
   "source": [
    "Checking to see which months have missing data in the collection process"
   ]
  },
  {
   "cell_type": "code",
   "execution_count": 21,
   "id": "e5506036",
   "metadata": {},
   "outputs": [
    {
     "data": {
      "text/plain": [
       "year  month\n",
       "2018  4        26678\n",
       "      5        30311\n",
       "      6        30677\n",
       "      7        28616\n",
       "      8        22791\n",
       "      9        23387\n",
       "      10       10862\n",
       "      11        9774\n",
       "      12       10935\n",
       "2019  4         6108\n",
       "dtype: int64"
      ]
     },
     "execution_count": 21,
     "metadata": {},
     "output_type": "execute_result"
    }
   ],
   "source": [
    "comments.groupby([comments['year'], comments['month']]).size()"
   ]
  },
  {
   "cell_type": "code",
   "execution_count": 22,
   "id": "f595b2ee",
   "metadata": {},
   "outputs": [
    {
     "data": {
      "text/plain": [
       "year  month\n",
       "2018  3         833\n",
       "      4         951\n",
       "      5        1067\n",
       "      6         976\n",
       "      7        1071\n",
       "      8         930\n",
       "      9         870\n",
       "2019  2         231\n",
       "      4         189\n",
       "dtype: int64"
      ]
     },
     "execution_count": 22,
     "metadata": {},
     "output_type": "execute_result"
    }
   ],
   "source": [
    "submissions.groupby([submissions['year'], submissions['month']]).size()"
   ]
  },
  {
   "cell_type": "code",
   "execution_count": 23,
   "id": "5300839a",
   "metadata": {},
   "outputs": [
    {
     "data": {
      "text/plain": [
       "<AxesSubplot:xlabel='year,month'>"
      ]
     },
     "execution_count": 23,
     "metadata": {},
     "output_type": "execute_result"
    },
    {
     "data": {
      "image/png": "[encoded data removed]",
      "text/plain": [
       "<Figure size 720x216 with 1 Axes>"
      ]
     },
     "metadata": {
      "needs_background": "light"
     },
     "output_type": "display_data"
    }
   ],
   "source": [
    "comments.groupby([comments['year'], comments['month']]).size().plot(figsize=(10,3))"
   ]
  },
  {
   "cell_type": "code",
   "execution_count": 24,
   "id": "0bd8b1d3",
   "metadata": {
    "scrolled": true
   },
   "outputs": [
    {
     "data": {
      "text/plain": [
       "<AxesSubplot:xlabel='year,month'>"
      ]
     },
     "execution_count": 24,
     "metadata": {},
     "output_type": "execute_result"
    },
    {
     "data": {
      "image/png": "[encoded data removed]",
      "text/plain": [
       "<Figure size 720x216 with 1 Axes>"
      ]
     },
     "metadata": {
      "needs_background": "light"
     },
     "output_type": "display_data"
    }
   ],
   "source": [
    "submissions.groupby([submissions['year'], submissions['month']]).size().plot(figsize=(10,3))"
   ]
  },
  {
   "cell_type": "code",
   "execution_count": null,
   "id": "f71564fa",
   "metadata": {},
   "outputs": [],
   "source": []
  }
 ],
 "metadata": {
  "kernelspec": {
   "display_name": "Python 3 (ipykernel)",
   "language": "python",
   "name": "python3"
  },
  "language_info": {
   "codemirror_mode": {
    "name": "ipython",
    "version": 3
   },
   "file_extension": ".py",
   "mimetype": "text/x-python",
   "name": "python",
   "nbconvert_exporter": "python",
   "pygments_lexer": "ipython3",
   "version": "3.10.2"
  }
 },
 "nbformat": 4,
 "nbformat_minor": 5
}
