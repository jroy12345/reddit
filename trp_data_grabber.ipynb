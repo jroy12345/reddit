{
 "cells": [
  {
   "cell_type": "markdown",
   "id": "45c97978",
   "metadata": {},
   "source": [
    "# The following program uses PMAW to create multiple calls to the Pushshift Reddit API, and store the called data in JSON files."
   ]
  },
  {
   "cell_type": "code",
   "execution_count": null,
   "id": "707acb26",
   "metadata": {},
   "outputs": [],
   "source": [
    "# import statements\n",
    "from pmaw import PushshiftAPI\n",
    "import pandas as pd"
   ]
  },
  {
   "cell_type": "code",
   "execution_count": null,
   "id": "89653ecc",
   "metadata": {},
   "outputs": [],
   "source": [
    "# parameter data for pmaw api call construction\n",
    "api = PushshiftAPI()\n",
    "# before = 1556150400 after = 1519862400 for whole project window (60 weeks)\n",
    "before = 1556150400\n",
    "after = 1519862400\n",
    "subreddit = \"TheRedPill\""
   ]
  },
  {
   "cell_type": "markdown",
   "id": "5c70a1af",
   "metadata": {},
   "source": [
    "# The following code retrieves submissions data from Pushshift API and stores it in a JSON file."
   ]
  },
  {
   "cell_type": "code",
   "execution_count": null,
   "id": "1fd2b1df",
   "metadata": {},
   "outputs": [],
   "source": [
    "# submissions call and storage\n",
    "submissions = api.search_submissions(subreddit=subreddit, before=before, after=after, mem_safe=True)\n",
    "print(\"Retrieved\", len(submissions), \"submissions from Pushshift\")\n",
    "submissions_df = pd.DataFrame(submissions)\n",
    "submissions_df.to_json('./trp_submissions.json')"
   ]
  },
  {
   "cell_type": "markdown",
   "id": "b7eb9092",
   "metadata": {},
   "source": [
    "# The following code retrieves comments data from Pushshift API and stores it in a JSON file."
   ]
  },
  {
   "cell_type": "code",
   "execution_count": null,
   "id": "cda56363",
   "metadata": {},
   "outputs": [],
   "source": [
    "# comments call and storage\n",
    "comments = api.search_comments(subreddit=subreddit, before=before, after=after, mem_safe=True)\n",
    "print(\"Retrieved\", len(comments), \"comments from Pushshift\")\n",
    "comments_df = pd.DataFrame(comments)\n",
    "comments_df.to_json('./trp_comments.json')"
   ]
  }
 ],
 "metadata": {
  "kernelspec": {
   "display_name": "Python 3 (ipykernel)",
   "language": "python",
   "name": "python3"
  },
  "language_info": {
   "codemirror_mode": {
    "name": "ipython",
    "version": 3
   },
   "file_extension": ".py",
   "mimetype": "text/x-python",
   "name": "python",
   "nbconvert_exporter": "python",
   "pygments_lexer": "ipython3",
   "version": "3.9.7"
  }
 },
 "nbformat": 4,
 "nbformat_minor": 5
}
